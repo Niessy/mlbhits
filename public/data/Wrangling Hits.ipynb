{
 "metadata": {
  "name": "",
  "signature": "sha256:885b792c68c0c4b0aba28efc8eecff9cc83533d9d143261e802a008144ed3831"
 },
 "nbformat": 3,
 "nbformat_minor": 0,
 "worksheets": [
  {
   "cells": [
    {
     "cell_type": "code",
     "collapsed": false,
     "input": [
      "import pandas as pd\n",
      "import numpy as np"
     ],
     "language": "python",
     "metadata": {},
     "outputs": [],
     "prompt_number": 1
    },
    {
     "cell_type": "code",
     "collapsed": false,
     "input": [
      "hits = pd.read_csv('./../data/hits.tsv', sep='\\t', names=['game', 'inning', 'pitcher', 'hitter', 'class', 'description',\n",
      "                                                            'x', 'y'])\n",
      "hits.head()"
     ],
     "language": "python",
     "metadata": {},
     "outputs": [
      {
       "html": [
        "<div style=\"max-height:1000px;max-width:1500px;overflow:auto;\">\n",
        "<table border=\"1\" class=\"dataframe\">\n",
        "  <thead>\n",
        "    <tr style=\"text-align: right;\">\n",
        "      <th></th>\n",
        "      <th>game</th>\n",
        "      <th>inning</th>\n",
        "      <th>pitcher</th>\n",
        "      <th>hitter</th>\n",
        "      <th>class</th>\n",
        "      <th>description</th>\n",
        "      <th>x</th>\n",
        "      <th>y</th>\n",
        "    </tr>\n",
        "  </thead>\n",
        "  <tbody>\n",
        "    <tr>\n",
        "      <th>0</th>\n",
        "      <td> 1</td>\n",
        "      <td>    Top</td>\n",
        "      <td> Ubaldo Jimenez</td>\n",
        "      <td>    Ian Kinsler</td>\n",
        "      <td> O</td>\n",
        "      <td> Groundout</td>\n",
        "      <td> 117.47</td>\n",
        "      <td> 147.59</td>\n",
        "    </tr>\n",
        "    <tr>\n",
        "      <th>1</th>\n",
        "      <td> 1</td>\n",
        "      <td>    Top</td>\n",
        "      <td> Ubaldo Jimenez</td>\n",
        "      <td>   Torii Hunter</td>\n",
        "      <td> O</td>\n",
        "      <td> Groundout</td>\n",
        "      <td> 107.43</td>\n",
        "      <td> 153.61</td>\n",
        "    </tr>\n",
        "    <tr>\n",
        "      <th>2</th>\n",
        "      <td> 1</td>\n",
        "      <td>    Top</td>\n",
        "      <td> Ubaldo Jimenez</td>\n",
        "      <td> Miguel Cabrera</td>\n",
        "      <td> O</td>\n",
        "      <td> Groundout</td>\n",
        "      <td> 100.40</td>\n",
        "      <td> 164.66</td>\n",
        "    </tr>\n",
        "    <tr>\n",
        "      <th>3</th>\n",
        "      <td> 1</td>\n",
        "      <td> Bottom</td>\n",
        "      <td>     Drew Smyly</td>\n",
        "      <td>  Manny Machado</td>\n",
        "      <td> O</td>\n",
        "      <td>    Flyout</td>\n",
        "      <td>  83.33</td>\n",
        "      <td>  94.38</td>\n",
        "    </tr>\n",
        "    <tr>\n",
        "      <th>4</th>\n",
        "      <td> 1</td>\n",
        "      <td> Bottom</td>\n",
        "      <td>     Drew Smyly</td>\n",
        "      <td>     Adam Jones</td>\n",
        "      <td> H</td>\n",
        "      <td>  Home Run</td>\n",
        "      <td>  26.10</td>\n",
        "      <td>  99.40</td>\n",
        "    </tr>\n",
        "  </tbody>\n",
        "</table>\n",
        "<p>5 rows \u00d7 8 columns</p>\n",
        "</div>"
       ],
       "metadata": {},
       "output_type": "pyout",
       "prompt_number": 13,
       "text": [
        "   game  inning         pitcher          hitter class description       x  \\\n",
        "0     1     Top  Ubaldo Jimenez     Ian Kinsler     O   Groundout  117.47   \n",
        "1     1     Top  Ubaldo Jimenez    Torii Hunter     O   Groundout  107.43   \n",
        "2     1     Top  Ubaldo Jimenez  Miguel Cabrera     O   Groundout  100.40   \n",
        "3     1  Bottom      Drew Smyly   Manny Machado     O      Flyout   83.33   \n",
        "4     1  Bottom      Drew Smyly      Adam Jones     H    Home Run   26.10   \n",
        "\n",
        "        y  \n",
        "0  147.59  \n",
        "1  153.61  \n",
        "2  164.66  \n",
        "3   94.38  \n",
        "4   99.40  \n",
        "\n",
        "[5 rows x 8 columns]"
       ]
      }
     ],
     "prompt_number": 13
    },
    {
     "cell_type": "code",
     "collapsed": false,
     "input": [
      "hits.shape"
     ],
     "language": "python",
     "metadata": {},
     "outputs": [
      {
       "metadata": {},
       "output_type": "pyout",
       "prompt_number": 14,
       "text": [
        "(31527, 8)"
       ]
      }
     ],
     "prompt_number": 14
    },
    {
     "cell_type": "code",
     "collapsed": false,
     "input": [
      "nans = pd.isnull(hits).any(1).nonzero()"
     ],
     "language": "python",
     "metadata": {},
     "outputs": [],
     "prompt_number": 15
    },
    {
     "cell_type": "code",
     "collapsed": false,
     "input": [
      "nans"
     ],
     "language": "python",
     "metadata": {},
     "outputs": [
      {
       "metadata": {},
       "output_type": "pyout",
       "prompt_number": 16,
       "text": [
        "(array([], dtype=int64),)"
       ]
      }
     ],
     "prompt_number": 16
    },
    {
     "cell_type": "code",
     "collapsed": false,
     "input": [
      "hits = hits.drop(hits.index[nans])\n",
      "hits.shape"
     ],
     "language": "python",
     "metadata": {},
     "outputs": [
      {
       "metadata": {},
       "output_type": "pyout",
       "prompt_number": 17,
       "text": [
        "(31527, 8)"
       ]
      }
     ],
     "prompt_number": 17
    },
    {
     "cell_type": "code",
     "collapsed": false,
     "input": [
      "hits = hits.drop_duplicates()\n",
      "hits.shape"
     ],
     "language": "python",
     "metadata": {},
     "outputs": [
      {
       "metadata": {},
       "output_type": "pyout",
       "prompt_number": 18,
       "text": [
        "(31464, 8)"
       ]
      }
     ],
     "prompt_number": 18
    },
    {
     "cell_type": "code",
     "collapsed": false,
     "input": [
      "# Have a unique id for each hit, d3 will use this as the key\n",
      "hits['id'] = hits.index\n",
      "hits.head()"
     ],
     "language": "python",
     "metadata": {},
     "outputs": [
      {
       "html": [
        "<div style=\"max-height:1000px;max-width:1500px;overflow:auto;\">\n",
        "<table border=\"1\" class=\"dataframe\">\n",
        "  <thead>\n",
        "    <tr style=\"text-align: right;\">\n",
        "      <th></th>\n",
        "      <th>game</th>\n",
        "      <th>inning</th>\n",
        "      <th>pitcher</th>\n",
        "      <th>hitter</th>\n",
        "      <th>class</th>\n",
        "      <th>description</th>\n",
        "      <th>x</th>\n",
        "      <th>y</th>\n",
        "      <th>id</th>\n",
        "    </tr>\n",
        "  </thead>\n",
        "  <tbody>\n",
        "    <tr>\n",
        "      <th>0</th>\n",
        "      <td> 1</td>\n",
        "      <td>    Top</td>\n",
        "      <td> Ubaldo Jimenez</td>\n",
        "      <td>    Ian Kinsler</td>\n",
        "      <td> O</td>\n",
        "      <td> Groundout</td>\n",
        "      <td> 117.47</td>\n",
        "      <td> 147.59</td>\n",
        "      <td> 0</td>\n",
        "    </tr>\n",
        "    <tr>\n",
        "      <th>1</th>\n",
        "      <td> 1</td>\n",
        "      <td>    Top</td>\n",
        "      <td> Ubaldo Jimenez</td>\n",
        "      <td>   Torii Hunter</td>\n",
        "      <td> O</td>\n",
        "      <td> Groundout</td>\n",
        "      <td> 107.43</td>\n",
        "      <td> 153.61</td>\n",
        "      <td> 1</td>\n",
        "    </tr>\n",
        "    <tr>\n",
        "      <th>2</th>\n",
        "      <td> 1</td>\n",
        "      <td>    Top</td>\n",
        "      <td> Ubaldo Jimenez</td>\n",
        "      <td> Miguel Cabrera</td>\n",
        "      <td> O</td>\n",
        "      <td> Groundout</td>\n",
        "      <td> 100.40</td>\n",
        "      <td> 164.66</td>\n",
        "      <td> 2</td>\n",
        "    </tr>\n",
        "    <tr>\n",
        "      <th>3</th>\n",
        "      <td> 1</td>\n",
        "      <td> Bottom</td>\n",
        "      <td>     Drew Smyly</td>\n",
        "      <td>  Manny Machado</td>\n",
        "      <td> O</td>\n",
        "      <td>    Flyout</td>\n",
        "      <td>  83.33</td>\n",
        "      <td>  94.38</td>\n",
        "      <td> 3</td>\n",
        "    </tr>\n",
        "    <tr>\n",
        "      <th>4</th>\n",
        "      <td> 1</td>\n",
        "      <td> Bottom</td>\n",
        "      <td>     Drew Smyly</td>\n",
        "      <td>     Adam Jones</td>\n",
        "      <td> H</td>\n",
        "      <td>  Home Run</td>\n",
        "      <td>  26.10</td>\n",
        "      <td>  99.40</td>\n",
        "      <td> 4</td>\n",
        "    </tr>\n",
        "  </tbody>\n",
        "</table>\n",
        "<p>5 rows \u00d7 9 columns</p>\n",
        "</div>"
       ],
       "metadata": {},
       "output_type": "pyout",
       "prompt_number": 20,
       "text": [
        "   game  inning         pitcher          hitter class description       x  \\\n",
        "0     1     Top  Ubaldo Jimenez     Ian Kinsler     O   Groundout  117.47   \n",
        "1     1     Top  Ubaldo Jimenez    Torii Hunter     O   Groundout  107.43   \n",
        "2     1     Top  Ubaldo Jimenez  Miguel Cabrera     O   Groundout  100.40   \n",
        "3     1  Bottom      Drew Smyly   Manny Machado     O      Flyout   83.33   \n",
        "4     1  Bottom      Drew Smyly      Adam Jones     H    Home Run   26.10   \n",
        "\n",
        "        y  id  \n",
        "0  147.59   0  \n",
        "1  153.61   1  \n",
        "2  164.66   2  \n",
        "3   94.38   3  \n",
        "4   99.40   4  \n",
        "\n",
        "[5 rows x 9 columns]"
       ]
      }
     ],
     "prompt_number": 20
    },
    {
     "cell_type": "code",
     "collapsed": false,
     "input": [
      "hits.to_csv(\"../data/newhits.tsv\", sep=\"\\t\", index=False)"
     ],
     "language": "python",
     "metadata": {},
     "outputs": [],
     "prompt_number": 21
    },
    {
     "cell_type": "code",
     "collapsed": false,
     "input": [],
     "language": "python",
     "metadata": {},
     "outputs": []
    }
   ],
   "metadata": {}
  }
 ]
}