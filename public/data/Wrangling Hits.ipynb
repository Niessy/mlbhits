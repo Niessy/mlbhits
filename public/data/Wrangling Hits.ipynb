{
 "metadata": {
  "name": "",
  "signature": "sha256:3e90715161961dcba87a7251996e7c01a93ef6a7fa69aea910474c788d48d560"
 },
 "nbformat": 3,
 "nbformat_minor": 0,
 "worksheets": [
  {
   "cells": [
    {
     "cell_type": "code",
     "collapsed": false,
     "input": [
      "import pandas as pd\n",
      "import numpy as np"
     ],
     "language": "python",
     "metadata": {},
     "outputs": [],
     "prompt_number": 1
    },
    {
     "cell_type": "code",
     "collapsed": false,
     "input": [
      "hits = pd.read_csv('./../data/hits.tsv', sep='\\t')\n",
      "hits.head()"
     ],
     "language": "python",
     "metadata": {},
     "outputs": [
      {
       "html": [
        "<div style=\"max-height:1000px;max-width:1500px;overflow:auto;\">\n",
        "<table border=\"1\" class=\"dataframe\">\n",
        "  <thead>\n",
        "    <tr style=\"text-align: right;\">\n",
        "      <th></th>\n",
        "      <th>game</th>\n",
        "      <th>inning</th>\n",
        "      <th>pitcher</th>\n",
        "      <th>hitter</th>\n",
        "      <th>hit</th>\n",
        "      <th>type</th>\n",
        "      <th>x</th>\n",
        "      <th>y</th>\n",
        "    </tr>\n",
        "  </thead>\n",
        "  <tbody>\n",
        "    <tr>\n",
        "      <th>0</th>\n",
        "      <td> 1</td>\n",
        "      <td> Top</td>\n",
        "      <td> Ian Kennedy</td>\n",
        "      <td>   Carl Crawford</td>\n",
        "      <td> H</td>\n",
        "      <td>    Single</td>\n",
        "      <td> 170.68</td>\n",
        "      <td> 102.41</td>\n",
        "    </tr>\n",
        "    <tr>\n",
        "      <th>1</th>\n",
        "      <td> 1</td>\n",
        "      <td> Top</td>\n",
        "      <td> Ian Kennedy</td>\n",
        "      <td>     Yasiel Puig</td>\n",
        "      <td> E</td>\n",
        "      <td>     Error</td>\n",
        "      <td>  77.25</td>\n",
        "      <td> 164.06</td>\n",
        "    </tr>\n",
        "    <tr>\n",
        "      <th>2</th>\n",
        "      <td> 1</td>\n",
        "      <td> Top</td>\n",
        "      <td> Ian Kennedy</td>\n",
        "      <td>     Yasiel Puig</td>\n",
        "      <td> H</td>\n",
        "      <td>  Home Run</td>\n",
        "      <td>  26.10</td>\n",
        "      <td>  61.24</td>\n",
        "    </tr>\n",
        "    <tr>\n",
        "      <th>3</th>\n",
        "      <td> 1</td>\n",
        "      <td> Top</td>\n",
        "      <td> Ian Kennedy</td>\n",
        "      <td>  Hanley Ramirez</td>\n",
        "      <td> O</td>\n",
        "      <td> Groundout</td>\n",
        "      <td> 107.43</td>\n",
        "      <td> 156.63</td>\n",
        "    </tr>\n",
        "    <tr>\n",
        "      <th>4</th>\n",
        "      <td> 1</td>\n",
        "      <td> Top</td>\n",
        "      <td> Ian Kennedy</td>\n",
        "      <td> Adrian Gonzalez</td>\n",
        "      <td> O</td>\n",
        "      <td>    Flyout</td>\n",
        "      <td>  51.20</td>\n",
        "      <td>  92.37</td>\n",
        "    </tr>\n",
        "  </tbody>\n",
        "</table>\n",
        "<p>5 rows \u00d7 8 columns</p>\n",
        "</div>"
       ],
       "metadata": {},
       "output_type": "pyout",
       "prompt_number": 37,
       "text": [
        "  game inning      pitcher           hitter hit       type       x       y\n",
        "0    1    Top  Ian Kennedy    Carl Crawford   H     Single  170.68  102.41\n",
        "1    1    Top  Ian Kennedy      Yasiel Puig   E      Error   77.25  164.06\n",
        "2    1    Top  Ian Kennedy      Yasiel Puig   H   Home Run   26.10   61.24\n",
        "3    1    Top  Ian Kennedy   Hanley Ramirez   O  Groundout  107.43  156.63\n",
        "4    1    Top  Ian Kennedy  Adrian Gonzalez   O     Flyout   51.20   92.37\n",
        "\n",
        "[5 rows x 8 columns]"
       ]
      }
     ],
     "prompt_number": 37
    },
    {
     "cell_type": "code",
     "collapsed": false,
     "input": [
      "hits.shape"
     ],
     "language": "python",
     "metadata": {},
     "outputs": [
      {
       "metadata": {},
       "output_type": "pyout",
       "prompt_number": 38,
       "text": [
        "(35607, 8)"
       ]
      }
     ],
     "prompt_number": 38
    },
    {
     "cell_type": "code",
     "collapsed": false,
     "input": [
      "nans = pd.isnull(hits).any(1).nonzero()"
     ],
     "language": "python",
     "metadata": {},
     "outputs": [],
     "prompt_number": 39
    },
    {
     "cell_type": "code",
     "collapsed": false,
     "input": [
      "nans"
     ],
     "language": "python",
     "metadata": {},
     "outputs": [
      {
       "metadata": {},
       "output_type": "pyout",
       "prompt_number": 40,
       "text": [
        "(array([ 7958, 24011, 24837, 29116, 34287]),)"
       ]
      }
     ],
     "prompt_number": 40
    },
    {
     "cell_type": "code",
     "collapsed": false,
     "input": [
      "hits = hits.drop(hits.index[nans])\n",
      "hits.shape"
     ],
     "language": "python",
     "metadata": {},
     "outputs": [
      {
       "metadata": {},
       "output_type": "pyout",
       "prompt_number": 41,
       "text": [
        "(35602, 8)"
       ]
      }
     ],
     "prompt_number": 41
    },
    {
     "cell_type": "code",
     "collapsed": false,
     "input": [
      "hits = hits.rename(columns={'hit': 'type', 'type': 'description'})"
     ],
     "language": "python",
     "metadata": {},
     "outputs": [],
     "prompt_number": 42
    },
    {
     "cell_type": "code",
     "collapsed": false,
     "input": [
      "hits = hits.drop_duplicates()\n",
      "hits.shape"
     ],
     "language": "python",
     "metadata": {},
     "outputs": [
      {
       "metadata": {},
       "output_type": "pyout",
       "prompt_number": 43,
       "text": [
        "(4228, 8)"
       ]
      }
     ],
     "prompt_number": 43
    },
    {
     "cell_type": "code",
     "collapsed": false,
     "input": [
      "hits.to_csv(\"../data/newhits.tsv\", sep=\"\\t\")"
     ],
     "language": "python",
     "metadata": {},
     "outputs": [],
     "prompt_number": 44
    },
    {
     "cell_type": "code",
     "collapsed": false,
     "input": [],
     "language": "python",
     "metadata": {},
     "outputs": []
    }
   ],
   "metadata": {}
  }
 ]
}